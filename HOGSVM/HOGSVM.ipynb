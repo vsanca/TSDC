{
 "cells": [
  {
   "cell_type": "markdown",
   "metadata": {
    "collapsed": true
   },
   "source": [
    "# HOG + SVM \n",
    "\n",
    "---"
   ]
  },
  {
   "cell_type": "markdown",
   "metadata": {},
   "source": [
    "## Motivacija\n",
    "\n",
    "Histogram orijentisanih gradijenata predstavlja jedan pristup opisivanju karakteristika slike koji je dao odlične rezultate u oblasti detekcije objekata. HOG je invarijantan na promene osvetljenosti, senke, geometrijske transformacije i pomeraje objekata. Međutim, zavisan je od orijentacije objekta i parametara obučavanja, odsnosno veličine ćelija za koje se vrše izračunavanja.\n",
    "\n",
    "Istorijski, pristup detekciji objekata putem HOG karakteristika dao je odlične rezultate u efikasnom i preciznom prepoznavanju ljudi na slikama. SVM klasifikator obučen je na osnovu karakteristika gradijenata pozitivnih i negativnih uzoraka, dok se multiscale detekcija vrši tako što se za svaki region vrši binarna klasifikacija na pozitivne i negativne uzorke.\n",
    "\n",
    "---"
   ]
  },
  {
   "cell_type": "markdown",
   "metadata": {},
   "source": [
    "## Postupak\n",
    "\n",
    "Kako bi se SVM obučio za klasifikaciju na pozitivne i negativne objekte, potrebno je napraviti dovoljno veliki skup pozitivnih i raznovrsnih negativnih slika. Zatim je potrebno takve slike obraditi, na osnovu zadatih parametara izračunati HOG karakteristike i izračunate karakteristike upotrebiti za obučavanje SVM.\n",
    "\n",
    "HOG karakteristike izračunate su na osnovu \n",
    "\n",
    "---"
   ]
  },
  {
   "cell_type": "markdown",
   "metadata": {},
   "source": [
    "## Diskusija\n",
    "\n",
    "---"
   ]
  },
  {
   "cell_type": "code",
   "execution_count": null,
   "metadata": {
    "collapsed": true
   },
   "outputs": [],
   "source": []
  }
 ],
 "metadata": {
  "anaconda-cloud": {},
  "kernelspec": {
   "display_name": "Python [conda root]",
   "language": "python",
   "name": "conda-root-py"
  },
  "language_info": {
   "codemirror_mode": {
    "name": "ipython",
    "version": 2
   },
   "file_extension": ".py",
   "mimetype": "text/x-python",
   "name": "python",
   "nbconvert_exporter": "python",
   "pygments_lexer": "ipython2",
   "version": "2.7.12"
  }
 },
 "nbformat": 4,
 "nbformat_minor": 1
}
