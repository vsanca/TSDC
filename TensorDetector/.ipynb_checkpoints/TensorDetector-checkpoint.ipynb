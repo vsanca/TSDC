{
 "cells": [
  {
   "cell_type": "markdown",
   "metadata": {
    "collapsed": true
   },
   "source": [
    "# Konvolutivna neuronska mreža\n",
    "\n",
    "---"
   ]
  },
  {
   "cell_type": "markdown",
   "metadata": {},
   "source": [
    "## Motivacija\n",
    "\n",
    "Neuronske mreže predstavljaju univerzalne klasifikatore, dok je uvođenjem slojeva za konvoluciju performansa istih u zadacima klasifikacije slika u mnogome povećana. Implementacije dubokih neuronskih mreža koje vrše particionisanje slike i njihovo enkodiranje na osnovu obučavajućeg skupa predstavljaju novi pristup u detekciji objekata, pre svega u detekcijama gde je preciznost bitna, a ulazni podaci variraju ili postoje određene smetnje, poput preklapanja ili zaklonjenosti. \n",
    "\n",
    "Jedna od ovakvih implementacija opisana je u radu: https://arxiv.org/pdf/1506.04878.pdf, dok je praktično implementirana uz oslonac na [Tensorflow](https://www.tensorflow.org/) biblioteku, u vidu [TensorBox](https://github.com/TensorBox/TensorBox) paketa za obučavanje neuronske mreže i detekciju objekata. \n",
    "\n",
    "---"
   ]
  },
  {
   "cell_type": "markdown",
   "metadata": {},
   "source": [
    "## Postupak\n",
    "\n",
    "S obzirom na to da se radi o konvolutivnoj neuronskoj mreži, karakteristike slika se određuju u procesu obučavanja neuronske mreže, koja ih sama podešava u procesu obučavanja. Potrebno je obezbediti dovoljno veliki broj slika sa anotacijama objekata od interesa u odgovarajućem formatu. U ovu svrhu upotrebljen je **GTSDB** skup podataka, gde je napisana skripta za prevođenje postojeće anotacije u odgovarajući format. Nakon toga se započinje obučavanje postavljene neuronske mreže.\n",
    "\n",
    "Neuronska mreža oslanja se na karakteristike samih objekata, konteksta u kojem se nalaze (pozadine), kao i mogućim transformacijama koje se nad njima dešavaju kroz različite primere. Negativni primeri nisu potrebni jer neuronska mreža u procesu obučavanja ne vrši klasifikaciju po objektima diferenciranjem između pozitivnih i negativnih slučajeva, već traži parametre na osnovu primera označenih objekata.\n",
    "\n",
    "Veliki broj pozitivnih primera doprinosi većoj preciznosti, a mreža se obučava na osnovu svih saobraćajnih znakova. Obučavanje je dugotrajno, međutim posle nekoliko stotina iteracija preciznost prevazilazi prethodne pristupe detekciji znakova, uz slične praktične performanse u vidu vremena neophodnog za obradu slike.\n",
    "\n",
    "---"
   ]
  },
  {
   "cell_type": "markdown",
   "metadata": {
    "collapsed": true
   },
   "source": [
    "## Rezultati\n",
    "\n",
    "Nakon obučavanja, neuronska mreža je spremna za upotrebu za detekciju objekata. Potrebno je skalirati sliku na očekivane dimenzije, koja se daje na ulaz za detekciju. Izlaz predstavlja anotirana slika, odnosno bounding box gde je mreža detektovala znak. Moguće je da će se desiti više detekcija u regionu bliskom znaku što je neophodno obraditi, pre svega u smislu udaljenosti takvih objekata. Potrebno je diferencirati iste objekte, od onih na kojima se objekti preklapaju, pa se primenjuje Non-Maximum Suppression, kako bi se suvišne detekcije uklonile, odnosno predstavile kao jedna.\n",
    "\n",
    "Detekcije pre primene NMS algoritma predstavljene su crvenom bojom, dok je zelenom bojom predstavljena konačna detekcija objekta.\n",
    "\n",
    "<table>\n",
    "    <tr>\n",
    "        <th style=\"text-align:center\">Rezultat detekcije - predikcija</th>\n",
    "        <th style=\"text-align:center\">Anotirano iz skupa - istinita vrednost</th>\n",
    "    </tr>\n",
    "    <tr>\n",
    "        <td> <img src=\"images/0_pred.jpg\" alt=\"Predicted image 0\"/> </td>\n",
    "        <td> <img src=\"images/0_true.jpg\" alt=\"True image 0\"/> </td>\n",
    "    </tr>\n",
    "    <tr>\n",
    "        <td> <img src=\"images/1_pred.jpg\" alt=\"Predicted image 1\"/> </td>\n",
    "        <td> <img src=\"images/1_true.jpg\" alt=\"True image 1\"/> </td>\n",
    "    </tr>\n",
    "    <tr>\n",
    "        <td> <img src=\"images/2_pred.jpg\" alt=\"Predicted image 2\"/> </td>\n",
    "        <td> <img src=\"images/2_true.jpg\" alt=\"True image 2\"/> </td>\n",
    "    </tr>\n",
    "    <tr>\n",
    "        <td> <img src=\"images/3_pred.jpg\" alt=\"Predicted image 3\"/> </td>\n",
    "        <td> <img src=\"images/3_true.jpg\" alt=\"True image 3\"/> </td>\n",
    "    </tr>\n",
    "    <tr>\n",
    "        <td> <img src=\"images/4_pred.jpg\" alt=\"Predicted image 4\"/> </td>\n",
    "        <td> <img src=\"images/4_true.jpg\" alt=\"True image 4\"/> </td>\n",
    "    </tr>\n",
    "    <tr>\n",
    "        <td> <img src=\"images/5_pred.jpg\" alt=\"Predicted image 5\"/> </td>\n",
    "        <td> <img src=\"images/5_true.jpg\" alt=\"True image 5\"/> </td>\n",
    "    </tr>\n",
    "    <tr>\n",
    "        <td> <img src=\"images/6_pred.jpg\" alt=\"Predicted image 6\"/> </td>\n",
    "        <td> <img src=\"images/6_true.jpg\" alt=\"True image 6\"/> </td>\n",
    "    </tr>\n",
    "    <tr>\n",
    "        <td> <img src=\"images/7_pred.jpg\" alt=\"Predicted image 7\"/> </td>\n",
    "        <td> <img src=\"images/7_true.jpg\" alt=\"True image 7\"/> </td>\n",
    "    </tr>\n",
    "    <tr>\n",
    "        <td> <img src=\"images/8_pred.jpg\" alt=\"Predicted image 8\"/> </td>\n",
    "        <td> <img src=\"images/8_true.jpg\" alt=\"True image 8\"/> </td>\n",
    "    </tr>\n",
    "    <tr>\n",
    "        <td> <img src=\"images/9_pred.jpg\" alt=\"Predicted image 9\"/> </td>\n",
    "        <td> <img src=\"images/9_true.jpg\" alt=\"True image 9\"/> </td>\n",
    "    </tr>\n",
    "</table>\n",
    "\n",
    "---"
   ]
  },
  {
   "cell_type": "code",
   "execution_count": null,
   "metadata": {
    "collapsed": true
   },
   "outputs": [],
   "source": []
  }
 ],
 "metadata": {
  "anaconda-cloud": {},
  "kernelspec": {
   "display_name": "Python [conda root]",
   "language": "python",
   "name": "conda-root-py"
  },
  "language_info": {
   "codemirror_mode": {
    "name": "ipython",
    "version": 2
   },
   "file_extension": ".py",
   "mimetype": "text/x-python",
   "name": "python",
   "nbconvert_exporter": "python",
   "pygments_lexer": "ipython2",
   "version": "2.7.12"
  }
 },
 "nbformat": 4,
 "nbformat_minor": 1
}
