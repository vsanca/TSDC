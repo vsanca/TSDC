{
 "cells": [
  {
   "cell_type": "markdown",
   "metadata": {
    "collapsed": true
   },
   "source": [
    "# Haar kaskadni klasifikator \n",
    "\n",
    "---"
   ]
  },
  {
   "cell_type": "markdown",
   "metadata": {},
   "source": [
    "## Motivacija\n",
    "\n",
    "Kaskadni klasifikatori sa Haar karakteristikama prvi put su upotrebljeni i formulisani kao rešenje problema detekcije ljudskog lica na slici (*Viola-Jones*). Ovakvi sistemi kao osnovni zahtev imaju da treba da budu veoma efikasni i na slabim platformama, tako da mogu da funkcionišu u realnom vremenu na prihvatljiv način. Kaskadni klasifikatori predstavljaju način upotrebe više klasifikatora kako bi se dobilo pouzdanije rešenje, tako što se informacija na izlazu prethodnog klasifikatora koristi kako bi se trenutnom klasifikatoru pružila dodatna informacija o obrađivanim podacima. Efikasnost i veća pouzdanost se postiže i upotrebom samih Haar karakteristika slike koje se veoma brzo izračunavaju, pritom pružajući dodatne informacije bitne za detekciju objekata, za razliku od nestrukturiranih karakteristika poput boje i osvetljenja.\n",
    "\n",
    "Za razliku od pokušaja rešavanja [detekcije saobraćajnih znakova upotrebom tipičnog klasifikatora](../SlidingCNN/SlidingCNN.ipynb), kaskadni klasifikator se obučava na osnovu kako pozitivnih, tako i negativnih primera, čime bi neki od problema prethodno navedenog pristupa trebali biti rešeni. \n",
    "\n",
    "---"
   ]
  },
  {
   "cell_type": "markdown",
   "metadata": {},
   "source": [
    "## Postupak"
   ]
  },
  {
   "cell_type": "markdown",
   "metadata": {},
   "source": [
    "## Diskusija"
   ]
  },
  {
   "cell_type": "code",
   "execution_count": null,
   "metadata": {
    "collapsed": true
   },
   "outputs": [],
   "source": []
  }
 ],
 "metadata": {
  "anaconda-cloud": {},
  "kernelspec": {
   "display_name": "Python [conda root]",
   "language": "python",
   "name": "conda-root-py"
  },
  "language_info": {
   "codemirror_mode": {
    "name": "ipython",
    "version": 2
   },
   "file_extension": ".py",
   "mimetype": "text/x-python",
   "name": "python",
   "nbconvert_exporter": "python",
   "pygments_lexer": "ipython2",
   "version": "2.7.12"
  }
 },
 "nbformat": 4,
 "nbformat_minor": 1
}
